{
 "cells": [
  {
   "cell_type": "code",
   "execution_count": 1,
   "metadata": {
    "collapsed": true
   },
   "outputs": [],
   "source": [
    "import h5py\n",
    "import numpy as np\n",
    "import matplotlib.pyplot as plt"
   ]
  },
  {
   "cell_type": "code",
   "execution_count": null,
   "metadata": {
    "collapsed": false
   },
   "outputs": [],
   "source": [
    "import numpy as np\n",
    "import os\n",
    "import re\n",
    "\n",
    "location =  'C:\\\\Users\\\\Danita\\\\Desktop\\\\sensorCityData\\\\06Oct\\\\2016-10-24'\n",
    "for filename in os.listdir(location):\n",
    "    if '-6-AU' in filename:\n",
    "#        print filename\n",
    "        fullPath = os.path.join(location, filename)\n",
    "        print fullPath\n",
    "        soundData = h5py.File(fullPath , 'r')\n",
    "        energyVal = soundData.get('energy')     \n",
    "        print energyVal\n",
    "        energyArray= np.array(energyVal)\n",
    "        avg=0\n",
    "        count=0\n",
    "        for val in range(4,5):\n",
    "            avgofRow = np.average(energyArray[val])\n",
    "            if np.isfinite(avgofRow):\n",
    "                count= count +1\n",
    "                avg = np.average(energyArray[val])+avg\n",
    "        \n",
    "        print avg/count        \n",
    "            \n",
    "    \n"
   ]
  },
  {
   "cell_type": "code",
   "execution_count": 35,
   "metadata": {
    "collapsed": false
   },
   "outputs": [
    {
     "name": "stdout",
     "output_type": "stream",
     "text": [
      "04OctAll-6-AU-1-20161004_100000.wav.1.hdf5\n",
      "/home/danita/data/GIT_cc14a7a227c856aee6e0b541b97a77aabb8d3307-2016-10-21-17-13/ptne/hdf5/2016-10-21/04OctAll-6-AU-1-20161004_100000.wav.1.hdf5\n",
      "<HDF5 dataset \"energy\": shape (22, 1798), type \"<f4\">\n",
      "59.1964263916\n"
     ]
    }
   ],
   "source": [
    "import numpy as np\n",
    "import os\n",
    "import re\n",
    "\n",
    "filenameStr = '-6-AU'\n",
    "location04Oct = '/home/danita/data/GIT_cc14a7a227c856aee6e0b541b97a77aabb8d3307-2016-10-24-08-29/ptne/hdf5/2016-10-24'\n",
    "location06Oct = '/home/danita/data/GIT_cc14a7a227c856aee6e0b541b97a77aabb8d3307-2016-10-21-17-13/ptne/hdf5/2016-10-21'\n",
    "for filename in os.listdir(location06Oct):\n",
    "    if '-6-AU' in filename:\n",
    "        print filename\n",
    "        fullPath06Oct = os.path.join(location06Oct, filename)\n",
    "        print fullPath06Oct\n",
    "        soundData = h5py.File(fullPath06Oct , 'r')\n",
    "        energyVal = soundData.get('energy')     \n",
    "        print energyVal\n",
    "        energyArray= np.array(energyVal)\n",
    "        avg=0\n",
    "        count=0\n",
    "        for val in range(4,5):\n",
    "            avgofRow = np.average(energyArray[val])\n",
    "            if np.isfinite(avgofRow):\n",
    "                count= count +1\n",
    "                avg = np.average(energyArray[val])+avg\n",
    "        \n",
    "        print avg/count \n",
    "        \n"
   ]
  },
  {
   "cell_type": "code",
   "execution_count": 32,
   "metadata": {
    "collapsed": false
   },
   "outputs": [
    {
     "name": "stdout",
     "output_type": "stream",
     "text": [
      "06Oct-6-AU-1-20161006_100000.wav.1.hdf5\n",
      "/home/danita/data/GIT_cc14a7a227c856aee6e0b541b97a77aabb8d3307-2016-10-24-08-29/ptne/hdf5/2016-10-24/06Oct-6-AU-1-20161006_100000.wav.1.hdf5\n",
      "<HDF5 dataset \"energy\": shape (22, 48), type \"<f4\">\n"
     ]
    },
    {
     "ename": "IOError",
     "evalue": "Can't read data (Inflate() failed)",
     "output_type": "error",
     "traceback": [
      "\u001b[0;31m---------------------------------------------------------------------------\u001b[0m",
      "\u001b[0;31mIOError\u001b[0m                                   Traceback (most recent call last)",
      "\u001b[0;32m<ipython-input-32-3e96f3f4d68e>\u001b[0m in \u001b[0;36m<module>\u001b[0;34m()\u001b[0m\n\u001b[1;32m      7\u001b[0m         \u001b[0menergyVal\u001b[0m \u001b[0;34m=\u001b[0m \u001b[0msoundData\u001b[0m\u001b[0;34m.\u001b[0m\u001b[0mget\u001b[0m\u001b[0;34m(\u001b[0m\u001b[0;34m'energy'\u001b[0m\u001b[0;34m)\u001b[0m\u001b[0;34m\u001b[0m\u001b[0m\n\u001b[1;32m      8\u001b[0m         \u001b[0;32mprint\u001b[0m \u001b[0menergyVal\u001b[0m\u001b[0;34m\u001b[0m\u001b[0m\n\u001b[0;32m----> 9\u001b[0;31m         \u001b[0menergyArray1\u001b[0m\u001b[0;34m=\u001b[0m \u001b[0mnp\u001b[0m\u001b[0;34m.\u001b[0m\u001b[0marray\u001b[0m\u001b[0;34m(\u001b[0m\u001b[0menergyVal\u001b[0m\u001b[0;34m)\u001b[0m\u001b[0;34m\u001b[0m\u001b[0m\n\u001b[0m\u001b[1;32m     10\u001b[0m         \u001b[0mavg\u001b[0m\u001b[0;34m=\u001b[0m\u001b[0;36m0\u001b[0m\u001b[0;34m\u001b[0m\u001b[0m\n\u001b[1;32m     11\u001b[0m         \u001b[0mcount\u001b[0m\u001b[0;34m=\u001b[0m\u001b[0;36m0\u001b[0m\u001b[0;34m\u001b[0m\u001b[0m\n",
      "\u001b[0;32mh5py/_objects.pyx\u001b[0m in \u001b[0;36mh5py._objects.with_phil.wrapper (/tmp/pip-4rPeHA-build/h5py/_objects.c:2684)\u001b[0;34m()\u001b[0m\n",
      "\u001b[0;32mh5py/_objects.pyx\u001b[0m in \u001b[0;36mh5py._objects.with_phil.wrapper (/tmp/pip-4rPeHA-build/h5py/_objects.c:2642)\u001b[0;34m()\u001b[0m\n",
      "\u001b[0;32m/usr/local/lib/python2.7/dist-packages/h5py/_hl/dataset.pyc\u001b[0m in \u001b[0;36m__array__\u001b[0;34m(self, dtype)\u001b[0m\n\u001b[1;32m    676\u001b[0m             \u001b[0;32mreturn\u001b[0m \u001b[0marr\u001b[0m\u001b[0;34m\u001b[0m\u001b[0m\n\u001b[1;32m    677\u001b[0m \u001b[0;34m\u001b[0m\u001b[0m\n\u001b[0;32m--> 678\u001b[0;31m         \u001b[0mself\u001b[0m\u001b[0;34m.\u001b[0m\u001b[0mread_direct\u001b[0m\u001b[0;34m(\u001b[0m\u001b[0marr\u001b[0m\u001b[0;34m)\u001b[0m\u001b[0;34m\u001b[0m\u001b[0m\n\u001b[0m\u001b[1;32m    679\u001b[0m         \u001b[0;32mreturn\u001b[0m \u001b[0marr\u001b[0m\u001b[0;34m\u001b[0m\u001b[0m\n\u001b[1;32m    680\u001b[0m \u001b[0;34m\u001b[0m\u001b[0m\n",
      "\u001b[0;32m/usr/local/lib/python2.7/dist-packages/h5py/_hl/dataset.pyc\u001b[0m in \u001b[0;36mread_direct\u001b[0;34m(self, dest, source_sel, dest_sel)\u001b[0m\n\u001b[1;32m    639\u001b[0m \u001b[0;34m\u001b[0m\u001b[0m\n\u001b[1;32m    640\u001b[0m             \u001b[0;32mfor\u001b[0m \u001b[0mmspace\u001b[0m \u001b[0;32min\u001b[0m \u001b[0mdest_sel\u001b[0m\u001b[0;34m.\u001b[0m\u001b[0mbroadcast\u001b[0m\u001b[0;34m(\u001b[0m\u001b[0msource_sel\u001b[0m\u001b[0;34m.\u001b[0m\u001b[0mmshape\u001b[0m\u001b[0;34m)\u001b[0m\u001b[0;34m:\u001b[0m\u001b[0;34m\u001b[0m\u001b[0m\n\u001b[0;32m--> 641\u001b[0;31m                 \u001b[0mself\u001b[0m\u001b[0;34m.\u001b[0m\u001b[0mid\u001b[0m\u001b[0;34m.\u001b[0m\u001b[0mread\u001b[0m\u001b[0;34m(\u001b[0m\u001b[0mmspace\u001b[0m\u001b[0;34m,\u001b[0m \u001b[0mfspace\u001b[0m\u001b[0;34m,\u001b[0m \u001b[0mdest\u001b[0m\u001b[0;34m,\u001b[0m \u001b[0mdxpl\u001b[0m\u001b[0;34m=\u001b[0m\u001b[0mself\u001b[0m\u001b[0;34m.\u001b[0m\u001b[0m_dxpl\u001b[0m\u001b[0;34m)\u001b[0m\u001b[0;34m\u001b[0m\u001b[0m\n\u001b[0m\u001b[1;32m    642\u001b[0m \u001b[0;34m\u001b[0m\u001b[0m\n\u001b[1;32m    643\u001b[0m     \u001b[0;32mdef\u001b[0m \u001b[0mwrite_direct\u001b[0m\u001b[0;34m(\u001b[0m\u001b[0mself\u001b[0m\u001b[0;34m,\u001b[0m \u001b[0msource\u001b[0m\u001b[0;34m,\u001b[0m \u001b[0msource_sel\u001b[0m\u001b[0;34m=\u001b[0m\u001b[0mNone\u001b[0m\u001b[0;34m,\u001b[0m \u001b[0mdest_sel\u001b[0m\u001b[0;34m=\u001b[0m\u001b[0mNone\u001b[0m\u001b[0;34m)\u001b[0m\u001b[0;34m:\u001b[0m\u001b[0;34m\u001b[0m\u001b[0m\n",
      "\u001b[0;32mh5py/_objects.pyx\u001b[0m in \u001b[0;36mh5py._objects.with_phil.wrapper (/tmp/pip-4rPeHA-build/h5py/_objects.c:2684)\u001b[0;34m()\u001b[0m\n",
      "\u001b[0;32mh5py/_objects.pyx\u001b[0m in \u001b[0;36mh5py._objects.with_phil.wrapper (/tmp/pip-4rPeHA-build/h5py/_objects.c:2642)\u001b[0;34m()\u001b[0m\n",
      "\u001b[0;32mh5py/h5d.pyx\u001b[0m in \u001b[0;36mh5py.h5d.DatasetID.read (/tmp/pip-4rPeHA-build/h5py/h5d.c:3228)\u001b[0;34m()\u001b[0m\n",
      "\u001b[0;32mh5py/_proxy.pyx\u001b[0m in \u001b[0;36mh5py._proxy.dset_rw (/tmp/pip-4rPeHA-build/h5py/_proxy.c:1857)\u001b[0;34m()\u001b[0m\n",
      "\u001b[0;32mh5py/_proxy.pyx\u001b[0m in \u001b[0;36mh5py._proxy.H5PY_H5Dread (/tmp/pip-4rPeHA-build/h5py/_proxy.c:1505)\u001b[0;34m()\u001b[0m\n",
      "\u001b[0;31mIOError\u001b[0m: Can't read data (Inflate() failed)"
     ]
    }
   ],
   "source": [
    "for filename04 in os.listdir(location04Oct):    \n",
    "    if '-6-AU-1-20161006_100000.wav.1' in filename04:\n",
    "        print filename04\n",
    "        fullPath04Oct = os.path.join(location04Oct, filename04)\n",
    "        print fullPath04Oct\n",
    "        soundData = h5py.File(fullPath04Oct , 'r')\n",
    "        energyVal = soundData.get('energy')     \n",
    "        print energyVal\n",
    "        energyArray1= np.array(energyVal)\n",
    "        avg=0\n",
    "        count=0\n",
    "        for val in range(4,5):\n",
    "            avgofRow = np.average(energyArray1[val])\n",
    "            if np.isfinite(avgofRow):\n",
    "                count= count +1\n",
    "                avg1 = np.average(energyArray1[val])+avg\n",
    "        \n",
    "        print avg1/count \n",
    "    \n",
    "            "
   ]
  }
 ],
 "metadata": {
  "anaconda-cloud": {},
  "kernelspec": {
   "display_name": "Python [default]",
   "language": "python",
   "name": "python2"
  },
  "language_info": {
   "codemirror_mode": {
    "name": "ipython",
    "version": 2
   },
   "file_extension": ".py",
   "mimetype": "text/x-python",
   "name": "python",
   "nbconvert_exporter": "python",
   "pygments_lexer": "ipython2",
   "version": "2.7.12"
  }
 },
 "nbformat": 4,
 "nbformat_minor": 1
}
